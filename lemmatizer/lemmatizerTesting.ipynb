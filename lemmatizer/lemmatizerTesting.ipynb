{
 "cells": [
  {
   "cell_type": "code",
   "execution_count": 2,
   "metadata": {},
   "outputs": [
    {
     "name": "stdout",
     "output_type": "stream",
     "text": [
      "--2024-06-19 09:36:19--  https://files.webis.de/software/pyterrier-plugins/custom-terrier-token-processing-1.0-SNAPSHOT-jar-with-dependencies.jar\n",
      "Resolving files.webis.de (files.webis.de)... 141.54.132.200\n",
      "Connecting to files.webis.de (files.webis.de)|141.54.132.200|:443... connected.\n",
      "HTTP request sent, awaiting response... 200 OK\n",
      "Length: 499865236 (477M) [application/java-archive]\n",
      "Saving to: ‘/root/.pyterrier/custom-terrier-token-processing-0.0.1.jar’\n",
      "\n",
      "/root/.pyterrier/cu 100%[===================>] 476.71M   110MB/s    in 4.5s    \n",
      "\n",
      "2024-06-19 09:36:24 (105 MB/s) - ‘/root/.pyterrier/custom-terrier-token-processing-0.0.1.jar’ saved [499865236/499865236]\n",
      "\n"
     ]
    }
   ],
   "source": [
    "!wget https://files.webis.de/software/pyterrier-plugins/custom-terrier-token-processing-1.0-SNAPSHOT-jar-with-dependencies.jar -O /root/.pyterrier/custom-terrier-token-processing-0.0.1.jar"
   ]
  },
  {
   "cell_type": "code",
   "execution_count": 4,
   "metadata": {},
   "outputs": [],
   "source": [
    "import pyterrier as pt\n",
    "import pandas as pd\n",
    "pd.set_option('display.max_colwidth', 0)\n",
    "\n",
    "if not pt.started():\n",
    "    pt.init(boot_packages=['mam10eks:custom-terrier-token-processing:0.0.1'])\n",
    "    from jnius import autoclass"
   ]
  },
  {
   "cell_type": "code",
   "execution_count": null,
   "metadata": {},
   "outputs": [],
   "source": [
    "def lemmatize(t):\n",
    "    lemmatizer = autoclass(\"org.terrier.terms.StanfordLemmatizer\")()\n",
    "    return lemmatizer.stem(t)"
   ]
  }
 ],
 "metadata": {
  "kernelspec": {
   "display_name": "Python 3",
   "language": "python",
   "name": "python3"
  },
  "language_info": {
   "codemirror_mode": {
    "name": "ipython",
    "version": 3
   },
   "file_extension": ".py",
   "mimetype": "text/x-python",
   "name": "python",
   "nbconvert_exporter": "python",
   "pygments_lexer": "ipython3",
   "version": "3.10.12"
  }
 },
 "nbformat": 4,
 "nbformat_minor": 2
}
