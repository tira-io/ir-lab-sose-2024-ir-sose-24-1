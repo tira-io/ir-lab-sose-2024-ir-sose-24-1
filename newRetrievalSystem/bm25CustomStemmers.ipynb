{
 "cells": [
  {
   "cell_type": "code",
   "execution_count": 1,
   "metadata": {},
   "outputs": [
    {
     "name": "stderr",
     "output_type": "stream",
     "text": [
      "PyTerrier 0.10.0 has loaded Terrier 5.8 (built by craigm on 2023-11-01 18:05) and terrier-helper 0.0.8\n",
      "\n",
      "No etc/terrier.properties, using terrier.default.properties for bootstrap configuration.\n"
     ]
    }
   ],
   "source": [
    "from tira.third_party_integrations import ensure_pyterrier_is_loaded, persist_and_normalize_run\n",
    "from tira.rest_api_client import Client\n",
    "import pyterrier as pt\n",
    "from tqdm import tqdm\n",
    "\n",
    "ensure_pyterrier_is_loaded()\n",
    "tira = Client()"
   ]
  },
  {
   "cell_type": "code",
   "execution_count": 2,
   "metadata": {},
   "outputs": [],
   "source": [
    "pt_dataset = pt.get_dataset('irds:ir-lab-sose-2024/ir-acl-anthology-20240504-training')"
   ]
  },
  {
   "cell_type": "code",
   "execution_count": 45,
   "metadata": {},
   "outputs": [],
   "source": [
    "class NaiveStemmer:\n",
    "    def stem(self, token:str):\n",
    "        cutLength = len(token) // 3\n",
    "        cutLength = min(cutLength, 5)\n",
    "        return token[0:len(token) - cutLength]\n",
    "\n",
    "class CombinedStemmer:\n",
    "    def stem(self, token:str):\n",
    "        token = pt.index.TerrierStemmer.porter.stem(token)\n",
    "        nSt = NaiveStemmer()\n",
    "        return nSt.stem(token)"
   ]
  },
  {
   "cell_type": "code",
   "execution_count": 50,
   "metadata": {},
   "outputs": [
    {
     "name": "stderr",
     "output_type": "stream",
     "text": [
      "ir-lab-sose-2024/ir-acl-anthology-20240504-training documents:  71%|███████   | 90150/126958 [00:15<00:07, 5198.35it/s]"
     ]
    },
    {
     "name": "stdout",
     "output_type": "stream",
     "text": [
      "13:05:05.259 [ForkJoinPool-12-worker-3] WARN org.terrier.structures.indexing.Indexer - Adding an empty document to the index (2020.mir_conference-2020.1) - further warnings are suppressed\n"
     ]
    },
    {
     "name": "stderr",
     "output_type": "stream",
     "text": [
      "ir-lab-sose-2024/ir-acl-anthology-20240504-training documents: 100%|██████████| 126958/126958 [00:21<00:00, 5959.73it/s] \n",
      "100%|██████████| 126958/126958 [00:21<00:00, 5960.31it/s]\n"
     ]
    },
    {
     "name": "stdout",
     "output_type": "stream",
     "text": [
      "13:05:13.249 [ForkJoinPool-12-worker-3] WARN org.terrier.structures.indexing.Indexer - Indexed 3 empty documents\n"
     ]
    },
    {
     "name": "stderr",
     "output_type": "stream",
     "text": [
      "ir-lab-sose-2024/ir-acl-anthology-20240504-training documents:  70%|███████   | 89066/126958 [00:14<00:07, 5083.27it/s]"
     ]
    },
    {
     "name": "stdout",
     "output_type": "stream",
     "text": [
      "13:05:30.649 [ForkJoinPool-13-worker-3] WARN org.terrier.structures.indexing.Indexer - Adding an empty document to the index (2020.mir_conference-2020.1) - further warnings are suppressed\n"
     ]
    },
    {
     "name": "stderr",
     "output_type": "stream",
     "text": [
      "ir-lab-sose-2024/ir-acl-anthology-20240504-training documents: 100%|██████████| 126958/126958 [00:19<00:00, 6460.39it/s] \n",
      "100%|██████████| 126958/126958 [00:19<00:00, 6461.11it/s]\n"
     ]
    },
    {
     "name": "stdout",
     "output_type": "stream",
     "text": [
      "13:05:38.264 [ForkJoinPool-13-worker-3] WARN org.terrier.structures.indexing.Indexer - Indexed 3 empty documents\n"
     ]
    },
    {
     "name": "stderr",
     "output_type": "stream",
     "text": [
      "ir-lab-sose-2024/ir-acl-anthology-20240504-training documents:  71%|███████   | 90150/126958 [00:14<00:05, 7047.24it/s]"
     ]
    },
    {
     "name": "stdout",
     "output_type": "stream",
     "text": [
      "13:05:55.329 [ForkJoinPool-14-worker-3] WARN org.terrier.structures.indexing.Indexer - Adding an empty document to the index (2020.mir_conference-2020.1) - further warnings are suppressed\n"
     ]
    },
    {
     "name": "stderr",
     "output_type": "stream",
     "text": [
      "ir-lab-sose-2024/ir-acl-anthology-20240504-training documents: 100%|██████████| 126958/126958 [00:19<00:00, 6477.51it/s] \n",
      "100%|██████████| 126958/126958 [00:19<00:00, 6478.13it/s]\n"
     ]
    },
    {
     "name": "stdout",
     "output_type": "stream",
     "text": [
      "13:06:03.033 [ForkJoinPool-14-worker-3] WARN org.terrier.structures.indexing.Indexer - Indexed 3 empty documents\n"
     ]
    }
   ],
   "source": [
    "naiveStemmer = NaiveStemmer()\n",
    "combinedStemmer = CombinedStemmer()\n",
    "\n",
    "\n",
    "iter_indexer0 = pt.IterDictIndexer(\"./passage_index\", overwrite=True, verbose= True, stemmer = None , meta={'docno': 100, 'text': 4096})\n",
    "indexref0 = iter_indexer0.index(tqdm(pt_dataset.get_corpus_iter()))\n",
    "iter_indexer1 = pt.IterDictIndexer(\"./passage_index\", overwrite=True, verbose= True, stemmer = naiveStemmer , meta={'docno': 100, 'text': 4096})\n",
    "indexref1 = iter_indexer1.index(tqdm(pt_dataset.get_corpus_iter()))\n",
    "iter_indexer2 = pt.IterDictIndexer(\"./passage_index\", overwrite=True, verbose= True, stemmer = combinedStemmer , meta={'docno': 100, 'text': 4096})\n",
    "indexref2 = iter_indexer2.index(tqdm(pt_dataset.get_corpus_iter()))"
   ]
  },
  {
   "cell_type": "code",
   "execution_count": 51,
   "metadata": {},
   "outputs": [],
   "source": [
    "bm25NoStemmer = pt.BatchRetrieve(indexref0, wmodel=\"BM25\")\n",
    "bm25NaiveStemmer = pt.BatchRetrieve(indexref1, wmodel=\"BM25\")\n",
    "bm25CombinedStemmer = pt.BatchRetrieve(indexref2, wmodel=\"BM25\")"
   ]
  },
  {
   "cell_type": "code",
   "execution_count": 52,
   "metadata": {},
   "outputs": [
    {
     "name": "stdout",
     "output_type": "stream",
     "text": [
      "The run file is normalized outside the TIRA sandbox, I will store it at \"../runs/noStemmer\".\n",
      "Done. run file is stored under \"../runs/noStemmer/run.txt\".\n",
      "The run file is normalized outside the TIRA sandbox, I will store it at \"../runs/naiveStemmer\".\n",
      "Done. run file is stored under \"../runs/naiveStemmer/run.txt\".\n",
      "The run file is normalized outside the TIRA sandbox, I will store it at \"../runs/combinedStemmer\".\n",
      "Done. run file is stored under \"../runs/combinedStemmer/run.txt\".\n"
     ]
    }
   ],
   "source": [
    "#pt_dataset.get_topics('text').head(3)\n",
    "\n",
    "#print('Now we do the retrieval...')\n",
    "run0 = bm25NoStemmer(pt_dataset.get_topics('text'))\n",
    "run1 = bm25NaiveStemmer(pt_dataset.get_topics('text'))\n",
    "run2 = bm25CombinedStemmer(pt_dataset.get_topics('text'))\n",
    "\n",
    "#print('Done. Here are the first 10 entries of the run')\n",
    "#run.head(10)\n",
    "\n",
    "persist_and_normalize_run(run1, system_name='bm25_no_stemmer', default_output='../runs/noStemmer')\n",
    "persist_and_normalize_run(run1, system_name='bm25_naive_stemmer', default_output='../runs/naiveStemmer')\n",
    "persist_and_normalize_run(run2, system_name='bm25_combined_stemmer', default_output='../runs/combinedStemmer')"
   ]
  }
 ],
 "metadata": {
  "kernelspec": {
   "display_name": "Python 3",
   "language": "python",
   "name": "python3"
  },
  "language_info": {
   "codemirror_mode": {
    "name": "ipython",
    "version": 3
   },
   "file_extension": ".py",
   "mimetype": "text/x-python",
   "name": "python",
   "nbconvert_exporter": "python",
   "pygments_lexer": "ipython3",
   "version": "3.10.12"
  }
 },
 "nbformat": 4,
 "nbformat_minor": 2
}
