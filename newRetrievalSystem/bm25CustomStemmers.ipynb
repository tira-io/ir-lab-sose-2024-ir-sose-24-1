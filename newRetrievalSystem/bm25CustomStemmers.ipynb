{
 "cells": [
  {
   "cell_type": "code",
   "execution_count": 5,
   "metadata": {},
   "outputs": [],
   "source": [
    "from tira.third_party_integrations import ensure_pyterrier_is_loaded, persist_and_normalize_run\n",
    "from tira.rest_api_client import Client\n",
    "import pyterrier as pt\n",
    "from tqdm import tqdm\n",
    "#from NaiveStemmer.java import NaiveStemmer\n",
    "\n",
    "ensure_pyterrier_is_loaded()\n",
    "tira = Client()"
   ]
  },
  {
   "cell_type": "code",
   "execution_count": 6,
   "metadata": {},
   "outputs": [],
   "source": [
    "pt_dataset = pt.get_dataset('irds:ir-lab-sose-2024/ir-acl-anthology-20240504-training')"
   ]
  },
  {
   "cell_type": "code",
   "execution_count": 7,
   "metadata": {},
   "outputs": [],
   "source": [
    "class NaiveStemmer:\n",
    "    def stem(self, token:str):\n",
    "        cutLength = len(token) // 3\n",
    "        cutLength = min(cutLength, 5)\n",
    "        return token[0:len(token) - cutLength]\n",
    "\n",
    "class CombinedStemmer:\n",
    "    def stem(self, token:str):\n",
    "        token = pt.index.TerrierStemmer.porter.stem(token)\n",
    "        nSt = NaiveStemmer()\n",
    "        return nSt.stem(token)"
   ]
  },
  {
   "cell_type": "code",
   "execution_count": 1,
   "metadata": {},
   "outputs": [
    {
     "ename": "NameError",
     "evalue": "name 'NaiveStemmer' is not defined",
     "output_type": "error",
     "traceback": [
      "\u001b[0;31m---------------------------------------------------------------------------\u001b[0m",
      "\u001b[0;31mNameError\u001b[0m                                 Traceback (most recent call last)",
      "Cell \u001b[0;32mIn[1], line 1\u001b[0m\n\u001b[0;32m----> 1\u001b[0m naiveStemmer \u001b[38;5;241m=\u001b[39m \u001b[43mNaiveStemmer\u001b[49m()\n\u001b[1;32m      2\u001b[0m combinedStemmer \u001b[38;5;241m=\u001b[39m CombinedStemmer()\n\u001b[1;32m      3\u001b[0m naiveStemmer \u001b[38;5;241m=\u001b[39m NaiveStemmer()\n",
      "\u001b[0;31mNameError\u001b[0m: name 'NaiveStemmer' is not defined"
     ]
    }
   ],
   "source": [
    "naiveStemmer = NaiveStemmer()\n",
    "combinedStemmer = CombinedStemmer()\n",
    "naiveStemmer = NaiveStemmer()\n",
    "combinedStemmer = CombinedStemmer()\n",
    "dataset = pt.get_dataset('irds:ir-lab-sose-2024/ir-acl-anthology-20240504-training')\n",
    "corpus_iter = dataset.get_corpus_iter(verbose = True)\n",
    "for i in corpus_iter:\n",
    "    for word in i.split(' '):\n",
    "        print(word)\n",
    "\n",
    "\"\"\"\n",
    "iter_indexer0 = pt.IterDictIndexer(\"./passage_index\", overwrite=True, verbose= True, stemmer = None , meta={'docno': 100, 'text': 4096})\n",
    "indexref0 = iter_indexer0.index(tqdm(pt_dataset.get_corpus_iter()))\n",
    "iter_indexer1 = pt.IterDictIndexer(\"./passage_index\", overwrite=True, verbose= True, stemmer = naiveStemmer , meta={'docno': 100, 'text': 4096})\n",
    "indexref1 = iter_indexer1.index(tqdm(pt_dataset.get_corpus_iter()))\n",
    "iter_indexer2 = pt.IterDictIndexer(\"./passage_index\", overwrite=True, verbose= True, stemmer = combinedStemmer , meta={'docno': 100, 'text': 4096})\n",
    "indexref2 = iter_indexer2.index(tqdm(pt_dataset.get_corpus_iter()))\n",
    "\"\"\""
   ]
  },
  {
   "cell_type": "code",
   "execution_count": null,
   "metadata": {},
   "outputs": [],
   "source": [
    "bm25NoStemmer = pt.BatchRetrieve(indexref0, wmodel=\"BM25\")\n",
    "bm25NaiveStemmer = pt.BatchRetrieve(indexref1, wmodel=\"BM25\")\n",
    "bm25CombinedStemmer = pt.BatchRetrieve(indexref2, wmodel=\"BM25\")"
   ]
  },
  {
   "cell_type": "code",
   "execution_count": null,
   "metadata": {},
   "outputs": [
    {
     "name": "stdout",
     "output_type": "stream",
     "text": [
      "The run file is normalized outside the TIRA sandbox, I will store it at \"../runs/noStemmer\".\n",
      "Done. run file is stored under \"../runs/noStemmer/run.txt\".\n",
      "The run file is normalized outside the TIRA sandbox, I will store it at \"../runs/naiveStemmer\".\n",
      "Done. run file is stored under \"../runs/naiveStemmer/run.txt\".\n",
      "The run file is normalized outside the TIRA sandbox, I will store it at \"../runs/combinedStemmer\".\n",
      "Done. run file is stored under \"../runs/combinedStemmer/run.txt\".\n"
     ]
    }
   ],
   "source": [
    "#pt_dataset.get_topics('text').head(3)\n",
    "\n",
    "#print('Now we do the retrieval...')\n",
    "run0 = bm25NoStemmer(pt_dataset.get_topics('text'))\n",
    "run1 = bm25NaiveStemmer(pt_dataset.get_topics('text'))\n",
    "run2 = bm25CombinedStemmer(pt_dataset.get_topics('text'))\n",
    "\n",
    "#print('Done. Here are the first 10 entries of the run')\n",
    "#run.head(10)\n",
    "\n",
    "persist_and_normalize_run(run1, system_name='bm25_no_stemmer', default_output='../runs/noStemmer')\n",
    "persist_and_normalize_run(run1, system_name='bm25_naive_stemmer', default_output='../runs/naiveStemmer')\n",
    "persist_and_normalize_run(run2, system_name='bm25_combined_stemmer', default_output='../runs/combinedStemmer')"
   ]
  }
 ],
 "metadata": {
  "kernelspec": {
   "display_name": "Python 3",
   "language": "python",
   "name": "python3"
  },
  "language_info": {
   "codemirror_mode": {
    "name": "ipython",
    "version": 3
   },
   "file_extension": ".py",
   "mimetype": "text/x-python",
   "name": "python",
   "nbconvert_exporter": "python",
   "pygments_lexer": "ipython3",
   "version": "3.10.12"
  }
 },
 "nbformat": 4,
 "nbformat_minor": 2
}
