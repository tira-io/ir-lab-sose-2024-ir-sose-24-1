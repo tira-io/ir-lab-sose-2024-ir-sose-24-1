{
 "cells": [
  {
   "cell_type": "code",
   "execution_count": 7,
   "metadata": {},
   "outputs": [],
   "source": [
    "from tira.third_party_integrations import ensure_pyterrier_is_loaded, persist_and_normalize_run\n",
    "from tira.rest_api_client import Client\n",
    "import pyterrier as pt\n",
    "from tqdm import tqdm\n",
    "#from NaiveStemmer.java import NaiveStemmer\n",
    "\n",
    "ensure_pyterrier_is_loaded()\n",
    "tira = Client()"
   ]
  },
  {
   "cell_type": "code",
   "execution_count": 8,
   "metadata": {},
   "outputs": [],
   "source": [
    "pt_dataset = pt.get_dataset('irds:ir-lab-sose-2024/ir-acl-anthology-20240504-training')"
   ]
  },
  {
   "cell_type": "code",
   "execution_count": 12,
   "metadata": {},
   "outputs": [
    {
     "ename": "TypeError",
     "evalue": "NaiveStemmer: cannot extend enumeration 'TerrierStemmer'",
     "output_type": "error",
     "traceback": [
      "\u001b[0;31m---------------------------------------------------------------------------\u001b[0m",
      "\u001b[0;31mTypeError\u001b[0m                                 Traceback (most recent call last)",
      "Cell \u001b[0;32mIn[12], line 1\u001b[0m\n\u001b[0;32m----> 1\u001b[0m \u001b[38;5;28;01mclass\u001b[39;00m \u001b[38;5;21;01mNaiveStemmer\u001b[39;00m(pt\u001b[38;5;241m.\u001b[39mTerrierStemmer):\n\u001b[1;32m      2\u001b[0m     \u001b[38;5;28;01mdef\u001b[39;00m \u001b[38;5;21mstem\u001b[39m(\u001b[38;5;28mself\u001b[39m, token:\u001b[38;5;28mstr\u001b[39m):\n\u001b[1;32m      3\u001b[0m         cutLength \u001b[38;5;241m=\u001b[39m \u001b[38;5;28mlen\u001b[39m(token) \u001b[38;5;241m/\u001b[39m\u001b[38;5;241m/\u001b[39m \u001b[38;5;241m3\u001b[39m\n",
      "File \u001b[0;32m/usr/lib/python3.10/enum.py:168\u001b[0m, in \u001b[0;36mEnumMeta.__prepare__\u001b[0;34m(metacls, cls, bases, **kwds)\u001b[0m\n\u001b[1;32m    165\u001b[0m \u001b[38;5;129m@classmethod\u001b[39m\n\u001b[1;32m    166\u001b[0m \u001b[38;5;28;01mdef\u001b[39;00m \u001b[38;5;21m__prepare__\u001b[39m(metacls, \u001b[38;5;28mcls\u001b[39m, bases, \u001b[38;5;241m*\u001b[39m\u001b[38;5;241m*\u001b[39mkwds):\n\u001b[1;32m    167\u001b[0m     \u001b[38;5;66;03m# check that previous enum members do not exist\u001b[39;00m\n\u001b[0;32m--> 168\u001b[0m     \u001b[43mmetacls\u001b[49m\u001b[38;5;241;43m.\u001b[39;49m\u001b[43m_check_for_existing_members\u001b[49m\u001b[43m(\u001b[49m\u001b[38;5;28;43mcls\u001b[39;49m\u001b[43m,\u001b[49m\u001b[43m \u001b[49m\u001b[43mbases\u001b[49m\u001b[43m)\u001b[49m\n\u001b[1;32m    169\u001b[0m     \u001b[38;5;66;03m# create the namespace dict\u001b[39;00m\n\u001b[1;32m    170\u001b[0m     enum_dict \u001b[38;5;241m=\u001b[39m _EnumDict()\n",
      "File \u001b[0;32m/usr/lib/python3.10/enum.py:574\u001b[0m, in \u001b[0;36mEnumMeta._check_for_existing_members\u001b[0;34m(class_name, bases)\u001b[0m\n\u001b[1;32m    572\u001b[0m \u001b[38;5;28;01mfor\u001b[39;00m base \u001b[38;5;129;01min\u001b[39;00m chain\u001b[38;5;241m.\u001b[39m\u001b[38;5;18m__mro__\u001b[39m:\n\u001b[1;32m    573\u001b[0m     \u001b[38;5;28;01mif\u001b[39;00m \u001b[38;5;28missubclass\u001b[39m(base, Enum) \u001b[38;5;129;01mand\u001b[39;00m base\u001b[38;5;241m.\u001b[39m_member_names_:\n\u001b[0;32m--> 574\u001b[0m         \u001b[38;5;28;01mraise\u001b[39;00m \u001b[38;5;167;01mTypeError\u001b[39;00m(\n\u001b[1;32m    575\u001b[0m                 \u001b[38;5;124m\"\u001b[39m\u001b[38;5;132;01m%s\u001b[39;00m\u001b[38;5;124m: cannot extend enumeration \u001b[39m\u001b[38;5;132;01m%r\u001b[39;00m\u001b[38;5;124m\"\u001b[39m\n\u001b[1;32m    576\u001b[0m                 \u001b[38;5;241m%\u001b[39m (class_name, base\u001b[38;5;241m.\u001b[39m\u001b[38;5;18m__name__\u001b[39m)\n\u001b[1;32m    577\u001b[0m                 )\n",
      "\u001b[0;31mTypeError\u001b[0m: NaiveStemmer: cannot extend enumeration 'TerrierStemmer'"
     ]
    }
   ],
   "source": [
    "class NaiveStemmer(pt.TerrierStemmer):\n",
    "    def stem(self, token:str):\n",
    "        cutLength = len(token) // 3\n",
    "        cutLength = min(cutLength, 5)\n",
    "        return token[0:len(token) - cutLength]\n",
    "\n",
    "class CombinedStemmer(pt.TerrierStemmer):\n",
    "    def stem(self, token:str):\n",
    "        token = pt.index.TerrierStemmer.porter.stem(token)\n",
    "        nSt = NaiveStemmer()\n",
    "        return nSt.stem(token)"
   ]
  },
  {
   "cell_type": "code",
   "execution_count": null,
   "metadata": {},
   "outputs": [
    {
     "name": "stdout",
     "output_type": "stream",
     "text": [
      "Download from the Incubator: https://files.webis.de/data-in-production/data-research/tira-zenodo-dump-preparation/ir-lab-sose2024/ir-acl-anthology-20240504-inputs.zip?download=1\n",
      "\tThis is only used for last spot checks before archival to Zenodo.\n"
     ]
    },
    {
     "name": "stderr",
     "output_type": "stream",
     "text": [
      "Download: 100%|██████████| 39.4M/39.4M [00:00<00:00, 50.8MiB/s]\n"
     ]
    },
    {
     "name": "stdout",
     "output_type": "stream",
     "text": [
      "Download finished. Extract...\n",
      "Extraction finished:  /root/.tira/extracted_datasets/ir-lab-sose-2024/ir-acl-anthology-20240504-training/\n"
     ]
    },
    {
     "name": "stderr",
     "output_type": "stream",
     "text": [
      "ir-lab-sose-2024/ir-acl-anthology-20240504-training documents:  71%|███████   | 90188/126958 [00:24<00:06, 5443.68it/s]"
     ]
    },
    {
     "name": "stdout",
     "output_type": "stream",
     "text": [
      "10:29:59.256 [ForkJoinPool-1-worker-3] WARN org.terrier.structures.indexing.Indexer - Adding an empty document to the index (2020.mir_conference-2020.1) - further warnings are suppressed\n"
     ]
    },
    {
     "name": "stderr",
     "output_type": "stream",
     "text": [
      "ir-lab-sose-2024/ir-acl-anthology-20240504-training documents: 100%|██████████| 126958/126958 [00:30<00:00, 4201.47it/s] \n",
      "100%|██████████| 126958/126958 [00:30<00:00, 4201.80it/s]\n"
     ]
    },
    {
     "name": "stdout",
     "output_type": "stream",
     "text": [
      "10:30:09.380 [ForkJoinPool-1-worker-3] WARN org.terrier.structures.indexing.classical.InvertedIndexBuilder - No terms found this iteration - presuming end of iteration cycle (perhaps some lexicon terms are empty)\n",
      "10:30:09.762 [ForkJoinPool-1-worker-3] WARN org.terrier.structures.indexing.Indexer - Indexed 3 empty documents\n"
     ]
    },
    {
     "name": "stderr",
     "output_type": "stream",
     "text": [
      "ir-lab-sose-2024/ir-acl-anthology-20240504-training documents:  71%|███████   | 89877/126958 [00:16<00:07, 5036.44it/s]"
     ]
    },
    {
     "name": "stdout",
     "output_type": "stream",
     "text": [
      "10:30:28.736 [ForkJoinPool-2-worker-3] WARN org.terrier.structures.indexing.Indexer - Adding an empty document to the index (2020.mir_conference-2020.1) - further warnings are suppressed\n"
     ]
    },
    {
     "name": "stderr",
     "output_type": "stream",
     "text": [
      "ir-lab-sose-2024/ir-acl-anthology-20240504-training documents: 100%|██████████| 126958/126958 [00:21<00:00, 5784.49it/s] \n",
      "100%|██████████| 126958/126958 [00:21<00:00, 5785.03it/s]\n"
     ]
    },
    {
     "name": "stdout",
     "output_type": "stream",
     "text": [
      "10:30:37.858 [ForkJoinPool-2-worker-3] WARN org.terrier.structures.indexing.Indexer - Indexed 3 empty documents\n"
     ]
    },
    {
     "name": "stderr",
     "output_type": "stream",
     "text": [
      "ir-lab-sose-2024/ir-acl-anthology-20240504-training documents:  71%|███████   | 89940/126958 [00:15<00:05, 6267.36it/s]"
     ]
    },
    {
     "name": "stdout",
     "output_type": "stream",
     "text": [
      "10:30:57.075 [ForkJoinPool-3-worker-3] WARN org.terrier.structures.indexing.Indexer - Adding an empty document to the index (2020.mir_conference-2020.1) - further warnings are suppressed\n"
     ]
    },
    {
     "name": "stderr",
     "output_type": "stream",
     "text": [
      "ir-lab-sose-2024/ir-acl-anthology-20240504-training documents: 100%|██████████| 126958/126958 [00:21<00:00, 5950.52it/s]\n",
      "100%|██████████| 126958/126958 [00:21<00:00, 5951.11it/s]\n"
     ]
    }
   ],
   "source": [
    "naiveStemmer = NaiveStemmer()\n",
    "combinedStemmer = CombinedStemmer()\n",
    "\n",
    "\n",
    "iter_indexer0 = pt.IterDictIndexer(\"./passage_index\", overwrite=True, verbose= True, stemmer = None , meta={'docno': 100, 'text': 4096})\n",
    "indexref0 = iter_indexer0.index(tqdm(pt_dataset.get_corpus_iter()))\n",
    "iter_indexer1 = pt.IterDictIndexer(\"./passage_index\", overwrite=True, verbose= True, stemmer = naiveStemmer , meta={'docno': 100, 'text': 4096})\n",
    "indexref1 = iter_indexer1.index(tqdm(pt_dataset.get_corpus_iter()))\n",
    "iter_indexer2 = pt.IterDictIndexer(\"./passage_index\", overwrite=True, verbose= True, stemmer = combinedStemmer , meta={'docno': 100, 'text': 4096})\n",
    "indexref2 = iter_indexer2.index(tqdm(pt_dataset.get_corpus_iter()))"
   ]
  },
  {
   "cell_type": "code",
   "execution_count": null,
   "metadata": {},
   "outputs": [],
   "source": [
    "bm25NoStemmer = pt.BatchRetrieve(indexref0, wmodel=\"BM25\")\n",
    "bm25NaiveStemmer = pt.BatchRetrieve(indexref1, wmodel=\"BM25\")\n",
    "bm25CombinedStemmer = pt.BatchRetrieve(indexref2, wmodel=\"BM25\")"
   ]
  },
  {
   "cell_type": "code",
   "execution_count": null,
   "metadata": {},
   "outputs": [
    {
     "name": "stdout",
     "output_type": "stream",
     "text": [
      "The run file is normalized outside the TIRA sandbox, I will store it at \"../runs/noStemmer\".\n",
      "Done. run file is stored under \"../runs/noStemmer/run.txt\".\n",
      "The run file is normalized outside the TIRA sandbox, I will store it at \"../runs/naiveStemmer\".\n",
      "Done. run file is stored under \"../runs/naiveStemmer/run.txt\".\n",
      "The run file is normalized outside the TIRA sandbox, I will store it at \"../runs/combinedStemmer\".\n",
      "Done. run file is stored under \"../runs/combinedStemmer/run.txt\".\n"
     ]
    }
   ],
   "source": [
    "#pt_dataset.get_topics('text').head(3)\n",
    "\n",
    "#print('Now we do the retrieval...')\n",
    "run0 = bm25NoStemmer(pt_dataset.get_topics('text'))\n",
    "run1 = bm25NaiveStemmer(pt_dataset.get_topics('text'))\n",
    "run2 = bm25CombinedStemmer(pt_dataset.get_topics('text'))\n",
    "\n",
    "#print('Done. Here are the first 10 entries of the run')\n",
    "#run.head(10)\n",
    "\n",
    "persist_and_normalize_run(run1, system_name='bm25_no_stemmer', default_output='../runs/noStemmer')\n",
    "persist_and_normalize_run(run1, system_name='bm25_naive_stemmer', default_output='../runs/naiveStemmer')\n",
    "persist_and_normalize_run(run2, system_name='bm25_combined_stemmer', default_output='../runs/combinedStemmer')"
   ]
  }
 ],
 "metadata": {
  "kernelspec": {
   "display_name": "Python 3",
   "language": "python",
   "name": "python3"
  },
  "language_info": {
   "codemirror_mode": {
    "name": "ipython",
    "version": 3
   },
   "file_extension": ".py",
   "mimetype": "text/x-python",
   "name": "python",
   "nbconvert_exporter": "python",
   "pygments_lexer": "ipython3",
   "version": "3.10.12"
  }
 },
 "nbformat": 4,
 "nbformat_minor": 2
}
